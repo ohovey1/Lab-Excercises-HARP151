{
 "cells": [
  {
   "cell_type": "code",
   "execution_count": 1,
   "id": "c6aa94c8",
   "metadata": {},
   "outputs": [
    {
     "name": "stdout",
     "output_type": "stream",
     "text": [
      "chestnut\n"
     ]
    }
   ],
   "source": [
    "########\n",
    "## Q1 ##\n",
    "########\n",
    "\n",
    "list = [\"apple\", \"chestnut\", \"gargoyle\", \"pandas\", \"sheep\", \"raptor\"]\n",
    "\n",
    "def find_longest_string(string_list):\n",
    "\n",
    "    longest_string = string_list[0]\n",
    "    for string in list:\n",
    "        # checks if len of current word is longer than current longest word, if so longest word is replaced\n",
    "        if len(string) > len(longest_string):\n",
    "            longest_string = string\n",
    "    \n",
    "    return longest_string\n",
    "\n",
    "print(find_longest_string(list))"
   ]
  },
  {
   "cell_type": "code",
   "execution_count": null,
   "id": "71c7d22c",
   "metadata": {},
   "outputs": [],
   "source": [
    "########\n",
    "## Q2 ##\n",
    "########\n",
    "\n"
   ]
  }
 ],
 "metadata": {
  "kernelspec": {
   "display_name": "Python 3 (ipykernel)",
   "language": "python",
   "name": "python3"
  },
  "language_info": {
   "codemirror_mode": {
    "name": "ipython",
    "version": 3
   },
   "file_extension": ".py",
   "mimetype": "text/x-python",
   "name": "python",
   "nbconvert_exporter": "python",
   "pygments_lexer": "ipython3",
   "version": "3.9.13"
  }
 },
 "nbformat": 4,
 "nbformat_minor": 5
}
